{
 "cells": [
  {
   "cell_type": "markdown",
   "metadata": {},
   "source": [
    "## Homework!\n",
    "\n",
    "Make a list of anything you want. (go wild!) Please put 5 inputs into the list. Since I respect you're time, feel free to use the outline below to help structure it. We already learned all the other functions from the other lessons, so I feel like it's okay to put them in the outline, as you already know it.\n",
    "\n",
    "Have fun! (This is bacically an inventory system, so don't you dare think that this will be useless.)"
   ]
  },
  {
   "cell_type": "code",
   "execution_count": null,
   "metadata": {
    "vscode": {
     "languageId": "javascript"
    }
   },
   "outputs": [],
   "source": [
    "%%js\n",
    "// Here's your list! Go wild.\n",
    "let list = [];\n",
    "\n",
    "// Write the function to display the current list in the console below\n",
    "\n",
    "\n",
    "// Write the function to add an item to the list below\n",
    "\n",
    "\n",
    "// I'm leaving this code in here as a treat! \n",
    "function removeItem(item) {\n",
    "    const index = list.indexOf(item);\n",
    "    if (index !== -1) {\n",
    "        list.splice(index, 1);\n",
    "        console.log();\n",
    "    } else {\n",
    "        console.log();\n",
    "    }\n",
    "    displayList();\n",
    "}\n",
    "\n",
    "// Write functions to add or remove items from the list below"
   ]
  }
 ],
 "metadata": {
  "language_info": {
   "name": "python"
  }
 },
 "nbformat": 4,
 "nbformat_minor": 2
}
