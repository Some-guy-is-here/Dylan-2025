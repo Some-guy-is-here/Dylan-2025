{
 "cells": [
  {
   "cell_type": "markdown",
   "metadata": {},
   "source": [
    "## **Hello! Welcome to my silly little lesson about lists!**\n",
    "\n",
    "Now, you are probably wondering, \"Hey! What is a list?\" I was just getting into that, so maybe, shut up and listen.\n",
    "\n",
    "### **What is a list?**\n",
    "A list is a data structure that is used to store an ordered collection of items. Now, for a question none of you are probably asking, \"Hey! How often are Lists used?\" And my friend, they are used alot. In fact, they are one of the most common data types across all the different coding languages! Long story short, you will need to use them, so learn to like em'!"
   ]
  },
  {
   "cell_type": "markdown",
   "metadata": {},
   "source": [
    "\n",
    "\n",
    "\n",
    "\n",
    "\n",
    "\n",
    "\n",
    "\n",
    "\n",
    "## **Lists 101 pt.1**\n",
    "- **How to make a list**\n",
    " Making a list is simple! What you want to know first is \"aList[i]\".\n",
    "\n",
    " - \"aList[i]\" can be broken into two parts: aList, and the [i].\n",
    "\n",
    " - \"aList\" is the name of your list. So, if you want to make a list of, say, your favorite foods, you would name your list \"favorite_foods\". It's that simple!\n",
    "\n",
    " - Next is the whatever this thing is -----> [i]. That right there? That's where uou put the stuff you want to list! So, again, with the favorite foods example, you will replace the [i] with ['pizza', 'ice_cream', 'hamburgers'];\n",
    "\n",
    "  - Remember to always use underscores when there is a space, or as an alternative, instead of formatting it like this: \"let favorite_foods\", you can instead use, \"let favoriteFoods\"\n",
    "\n",
    " - Now, putting this all togeather, it should look like this!:\n",
    " let favorite_foods = ['pizza', 'ice_cream', 'hamburgers'];"
   ]
  },
  {
   "cell_type": "markdown",
   "metadata": {},
   "source": [
    "## **Popcorn Hack!!!**\n",
    "\n",
    "That's right! It's time for a popcorn hack!!! So, do you want to make a list, but you feel like you might want to add stuff later, and don't feel like going back into the code to change it? If yes, this hack is for you! All you have to do is:\n",
    "\n",
    "aList ← []\n",
    "\n",
    "USER_INPUT ← (\"Enter an item you want (or Enter to quit): \")\n",
    "\n",
    "REPEAT UNTIL USER_INPUT ← \"\" {\n",
    "    APPEND (aList, USER_INPUT)\n",
    "}\n",
    "\n",
    "DISPLAY(aList)\n",
    "\n",
    "It's that simple!"
   ]
  }
 ],
 "metadata": {
  "language_info": {
   "name": "python"
  }
 },
 "nbformat": 4,
 "nbformat_minor": 2
}
