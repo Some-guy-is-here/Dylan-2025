{
 "cells": [
  {
   "cell_type": "markdown",
   "metadata": {},
   "source": [
    "## **Hello! Welcome to my silly little lesson about lists!**\n",
    "\n",
    "Now, you are probably wondering, \"Hey! What is a list?\" I was just getting into that, so maybe, shut up and listen.\n",
    "\n",
    "### **What is a list?**\n",
    "A list is a data structure that is used to store an ordered collection of items. Now, for a question none of you are probably asking, \"Hey! How often are Lists used?\" And my friend, they are used alot. In fact, they are one of the most common data types across all the different coding languages! Long story short, you will need to use them, so learn to like em'!"
   ]
  },
  {
   "cell_type": "markdown",
   "metadata": {},
   "source": [
    "\n",
    "\n",
    "\n",
    "\n",
    "\n",
    "\n",
    "\n",
    "\n",
    "\n",
    "## **Lists 101 pt.1**\n",
    "- **How to make a list**"
   ]
  }
 ],
 "metadata": {
  "language_info": {
   "name": "python"
  }
 },
 "nbformat": 4,
 "nbformat_minor": 2
}
