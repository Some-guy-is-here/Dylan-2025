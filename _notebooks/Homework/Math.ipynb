{
 "cells": [
  {
   "cell_type": "code",
   "execution_count": null,
   "metadata": {
    "vscode": {
     "languageId": "javascript"
    }
   },
   "outputs": [
    {
     "data": {
      "application/javascript": "\nlet origNum = 6\nlet num = origNum\n\nnum % 2 === 0\n ? (num /= 2)\n : (num **= 2)\n\nconsole.log(element.append(\"Original number\" + origNum))\nconsole.log(element.append(\"<br>\"))\nconsole.log(element.append(\"Transformed number: \" + num))\n",
      "text/plain": [
       "<IPython.core.display.Javascript object>"
      ]
     },
     "metadata": {},
     "output_type": "display_data"
    }
   ],
   "source": [
    "%%js\n",
    "\n",
    "let origNum = 6\n",
    "let num = origNum\n",
    "\n",
    "num % 2 === 0\n",
    " ? (num /= 2)\n",
    " : (num **= 2)\n",
    "\n",
    "element.append(\"Original number\" + origNum)\n",
    "element.append(\"<br>\")\n",
    "element.append(\"Transformed number: \" + num)"
   ]
  },
  {
   "cell_type": "code",
   "execution_count": 7,
   "metadata": {
    "vscode": {
     "languageId": "javascript"
    }
   },
   "outputs": [
    {
     "data": {
      "text/html": [
       "\n",
       "<div id=\"gameContainer\" style=\"margin-top: 20px;\">\n",
       "    <!-- The game will be appended here -->\n",
       "</div>\n",
       "\n",
       "<script type=\"text/javascript\">\n",
       "    // Ensure the game is created only once\n",
       "    if (!document.getElementById('monsterHealth')) {\n",
       "        // Create a heading for the game\n",
       "        const h1 = document.createElement('h1');\n",
       "        h1.textContent = 'Monster Battle';\n",
       "        document.getElementById('gameContainer').appendChild(h1);\n",
       "\n",
       "        // Create a paragraph for the monster's health\n",
       "        const healthPara = document.createElement('p');\n",
       "        healthPara.innerHTML = 'Monster Health: <span id=\"monsterHealth\">100</span>';\n",
       "        document.getElementById('gameContainer').appendChild(healthPara);\n",
       "\n",
       "        // Create the Attack button\n",
       "        const attackButton = document.createElement('button');\n",
       "        attackButton.id = 'attackButton';\n",
       "        attackButton.textContent = 'Attack';\n",
       "        attackButton.style.padding = '10px 20px';\n",
       "        attackButton.style.fontSize = '16px';\n",
       "        attackButton.style.cursor = 'pointer';\n",
       "        document.getElementById('gameContainer').appendChild(attackButton);\n",
       "\n",
       "        // Create a message display paragraph\n",
       "        const messagePara = document.createElement('p');\n",
       "        messagePara.id = 'message';\n",
       "        messagePara.style.marginTop = '20px';\n",
       "        messagePara.style.fontWeight = 'bold';\n",
       "        document.getElementById('gameContainer').appendChild(messagePara);\n",
       "\n",
       "        Set \"monsterHealth\" to 100 with variable\n",
       "        100\n",
       "\n",
       "        // Function to handle attack\n",
       "        function attackMonster() {\n",
       "            // Reduce monster's health by 10\n",
       "            -10\n",
       "\n",
       "            // Update the displayed health\n",
       "            document.getElementById('monsterHealth').textContent = monsterHealth;\n",
       "\n",
       "            // Check if monster's health is 0 or less\n",
       "            if (monsterHealth <= 0) {\n",
       "                document.getElementById('message').textContent = \"You defeated the monster!\";\n",
       "                \n",
       "                // Reset monster's health after defeating\n",
       "                setTimeout(() => {\n",
       "                    monsterHealth = 100;\n",
       "                    document.getElementById('monsterHealth').textContent = monsterHealth;\n",
       "                    document.getElementById('message').textContent = \"\";\n",
       "                }, 2000);  // Wait 2 seconds before resetting\n",
       "            } else {\n",
       "                // Clear the message if the monster is not yet defeated\n",
       "                document.getElementById('message').textContent = \"\";\n",
       "            }\n",
       "        }\n",
       "\n",
       "        // Attach the attack function to the button\n",
       "        document.getElementById('attackButton').addEventListener('click', attackMonster);\n",
       "    }\n",
       "</script>\n"
      ],
      "text/plain": [
       "<IPython.core.display.HTML object>"
      ]
     },
     "metadata": {},
     "output_type": "display_data"
    }
   ],
   "source": [
    "from IPython.display import display, HTML\n",
    "\n",
    "html_code = \"\"\"\n",
    "<div id=\"gameContainer\" style=\"margin-top: 20px;\">\n",
    "    <!-- The game will be appended here -->\n",
    "</div>\n",
    "\n",
    "<script type=\"text/javascript\">\n",
    "    // Ensure the game is created only once\n",
    "    if (!document.getElementById('monsterHealth')) {\n",
    "        // Create a heading for the game\n",
    "        const h1 = document.createElement('h1');\n",
    "        h1.textContent = 'Monster Battle';\n",
    "        document.getElementById('gameContainer').appendChild(h1);\n",
    "\n",
    "        // Create a paragraph for the monster's health\n",
    "        const healthPara = document.createElement('p');\n",
    "        healthPara.innerHTML = 'Monster Health: <span id=\"monsterHealth\">100</span>';\n",
    "        document.getElementById('gameContainer').appendChild(healthPara);\n",
    "\n",
    "        // Create the Attack button\n",
    "        const attackButton = document.createElement('button');\n",
    "        attackButton.id = 'attackButton';\n",
    "        attackButton.textContent = 'Attack';\n",
    "        attackButton.style.padding = '10px 20px';\n",
    "        attackButton.style.fontSize = '16px';\n",
    "        attackButton.style.cursor = 'pointer';\n",
    "        document.getElementById('gameContainer').appendChild(attackButton);\n",
    "\n",
    "        // Create a message display paragraph\n",
    "        const messagePara = document.createElement('p');\n",
    "        messagePara.id = 'message';\n",
    "        messagePara.style.marginTop = '20px';\n",
    "        messagePara.style.fontWeight = 'bold';\n",
    "        document.getElementById('gameContainer').appendChild(messagePara);\n",
    "\n",
    "        Set \"monsterHealth\" to 100 with variable\n",
    "        100\n",
    "\n",
    "        // Function to handle attack\n",
    "        function attackMonster() {\n",
    "            // Reduce monster's health by 10\n",
    "            -10\n",
    "\n",
    "            // Update the displayed health\n",
    "            document.getElementById('monsterHealth').textContent = monsterHealth;\n",
    "\n",
    "            // Check if monster's health is 0 or less\n",
    "            if (monsterHealth <= 0) {\n",
    "                document.getElementById('message').textContent = \"You defeated the monster!\";\n",
    "                \n",
    "                // Reset monster's health after defeating\n",
    "                setTimeout(() => {\n",
    "                    monsterHealth = 100;\n",
    "                    document.getElementById('monsterHealth').textContent = monsterHealth;\n",
    "                    document.getElementById('message').textContent = \"\";\n",
    "                }, 2000);  // Wait 2 seconds before resetting\n",
    "            } else {\n",
    "                // Clear the message if the monster is not yet defeated\n",
    "                document.getElementById('message').textContent = \"\";\n",
    "            }\n",
    "        }\n",
    "\n",
    "        // Attach the attack function to the button\n",
    "        document.getElementById('attackButton').addEventListener('click', attackMonster);\n",
    "    }\n",
    "</script>\n",
    "\"\"\"\n",
    "\n",
    "# Display the HTML and JavaScript in the notebook\n",
    "display(HTML(html_code))"
   ]
  }
 ],
 "metadata": {
  "kernelspec": {
   "display_name": "venv",
   "language": "python",
   "name": "python3"
  },
  "language_info": {
   "codemirror_mode": {
    "name": "ipython",
    "version": 3
   },
   "file_extension": ".py",
   "mimetype": "text/x-python",
   "name": "python",
   "nbconvert_exporter": "python",
   "pygments_lexer": "ipython3",
   "version": "3.10.12"
  }
 },
 "nbformat": 4,
 "nbformat_minor": 2
}
