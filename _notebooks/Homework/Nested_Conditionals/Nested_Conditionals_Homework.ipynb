{
 "cells": [
  {
   "cell_type": "markdown",
   "metadata": {},
   "source": [
    "## Popcorn hack 1"
   ]
  },
  {
   "cell_type": "code",
   "execution_count": 2,
   "metadata": {
    "vscode": {
     "languageId": "html"
    }
   },
   "outputs": [
    {
     "data": {
      "text/html": [
       "<!-- HTML output div -->\n",
       "<div id=\"message\"></div>\n",
       "\n",
       "<script>\n",
       "    function runWhenDOMLoaded() {\n",
       "        // Example choices\n",
       "        let appleColor = \"green\"; // Change this to \"green\" to test different outcomes\n",
       "        let eatApple = \"no\";   // Change this to \"no\" to test different outcomes\n",
       "\n",
       "        const messageElement = document.getElementById(\"message\");\n",
       "\n",
       "        function displayMessage(message) {\n",
       "            console.log(message); // Log to console\n",
       "            messageElement.textContent = message; // Display on the webpage\n",
       "        }\n",
       "\n",
       "        // Check the color of the apple chosen by the user\n",
       "        if (appleColor === \"red\") {\n",
       "            // If the apple is red, check if the user wants to eat it\n",
       "            if (eatApple === \"yes\") {\n",
       "                displayMessage(\"Lmao, the apple you ate was poisonous. You're dead :D\");\n",
       "            } else {\n",
       "                displayMessage(\"You decided not to eat the red apple (You're boring -_-).\");\n",
       "            }\n",
       "        } else if (appleColor === \"green\") {\n",
       "            // If the apple is green, check if the user wants to eat it\n",
       "            if (eatApple === \"yes\") {\n",
       "                displayMessage(\"You ate the green apple.\");\n",
       "            } else {\n",
       "                displayMessage(\"You decided not to eat the green apple (You're boring -_-).\");\n",
       "            }\n",
       "        } else {\n",
       "            // If the user enters an invalid color, display an error message\n",
       "            displayMessage(\"Invalid answer. Please choose 'red' or 'green'.\");\n",
       "        }\n",
       "    }\n",
       "\n",
       "    // Ensure the function runs only after the page loads\n",
       "    if (document.readyState === 'loading') {\n",
       "        document.addEventListener('DOMContentLoaded', runWhenDOMLoaded);\n",
       "    } else {\n",
       "        runWhenDOMLoaded();\n",
       "    }\n",
       "</script>\n"
      ],
      "text/plain": [
       "<IPython.core.display.HTML object>"
      ]
     },
     "metadata": {},
     "output_type": "display_data"
    }
   ],
   "source": [
    "%%html\n",
    "<!-- HTML output div -->\n",
    "<div id=\"message\"></div>\n",
    "\n",
    "<script>\n",
    "    function runWhenDOMLoaded() {\n",
    "        // Example choices\n",
    "        let appleColor = \"green\"; // Change this to \"green\" to test different outcomes\n",
    "        let eatApple = \"no\";   // Change this to \"no\" to test different outcomes\n",
    "\n",
    "        const messageElement = document.getElementById(\"message\");\n",
    "\n",
    "        function displayMessage(message) {\n",
    "            console.log(message); // Log to console\n",
    "            messageElement.textContent = message; // Display on the webpage\n",
    "        }\n",
    "\n",
    "        // Check the color of the apple chosen by the user\n",
    "        if (appleColor === \"red\") {\n",
    "            // If the apple is red, check if the user wants to eat it\n",
    "            if (eatApple === \"yes\") {\n",
    "                displayMessage(\"Lmao, the apple you ate was poisonous. You're dead :D\");\n",
    "            } else {\n",
    "                displayMessage(\"You decided not to eat the red apple (You're boring -_-).\");\n",
    "            }\n",
    "        } else if (appleColor === \"green\") {\n",
    "            // If the apple is green, check if the user wants to eat it\n",
    "            if (eatApple === \"yes\") {\n",
    "                displayMessage(\"You ate the green apple.\");\n",
    "            } else {\n",
    "                displayMessage(\"You decided not to eat the green apple (You're boring -_-).\");\n",
    "            }\n",
    "        } else {\n",
    "            // If the user enters an invalid color, display an error message\n",
    "            displayMessage(\"Invalid answer. Please choose 'red' or 'green'.\");\n",
    "        }\n",
    "    }\n",
    "\n",
    "    // Ensure the function runs only after the page loads\n",
    "    if (document.readyState === 'loading') {\n",
    "        document.addEventListener('DOMContentLoaded', runWhenDOMLoaded);\n",
    "    } else {\n",
    "        runWhenDOMLoaded();\n",
    "    }\n",
    "</script>"
   ]
  },
  {
   "cell_type": "markdown",
   "metadata": {},
   "source": [
    "## Popcorn hack #2"
   ]
  },
  {
   "cell_type": "code",
   "execution_count": 3,
   "metadata": {
    "vscode": {
     "languageId": "html"
    }
   },
   "outputs": [
    {
     "data": {
      "text/html": [
       "<!-- HTML output div -->\n",
       "<div id=\"message\"></div>\n",
       "\n",
       "<script>\n",
       "    function runWhenDOMLoaded() {\n",
       "        let isHungry = false;\n",
       "\n",
       "        // Define ingredients as a JSON object\n",
       "        const ingredients = {\n",
       "            \"bread\": true,\n",
       "            \"cheese\": false,\n",
       "            \"tomato\": false\n",
       "        };\n",
       "\n",
       "        const messageElement = document.getElementById(\"message\");\n",
       "\n",
       "        function displayMessage(message) {\n",
       "            console.log(message); // Log to console\n",
       "            messageElement.textContent = message; // Display on the webpage\n",
       "        }\n",
       "\n",
       "        // Check if essential ingredients are available\n",
       "        if (isHungry) {\n",
       "            if (ingredients.bread && ingredients.cheese) {\n",
       "                displayMessage(\"You can make a cheese sandwich at home.\");\n",
       "            } else if (ingredients.bread) {\n",
       "                displayMessage(\"You only have bread, maybe make toast.\");\n",
       "            } else {\n",
       "                displayMessage(\"You should order food since you don't have enough ingredients.\");\n",
       "            }\n",
       "        } else {\n",
       "            displayMessage(\"You aren't hungry. Maybe meal-prep for later if you had ingredients.\");\n",
       "        }\n",
       "    }\n",
       "\n",
       "    // Ensure the function runs only after the page loads\n",
       "    if (document.readyState === 'loading') {\n",
       "        document.addEventListener('DOMContentLoaded', runWhenDOMLoaded);\n",
       "    } else {\n",
       "        runWhenDOMLoaded();\n",
       "    }\n",
       "</script>\n"
      ],
      "text/plain": [
       "<IPython.core.display.HTML object>"
      ]
     },
     "metadata": {},
     "output_type": "display_data"
    }
   ],
   "source": [
    "%%html\n",
    "<!-- HTML output div -->\n",
    "<div id=\"message\"></div>\n",
    "\n",
    "<script>\n",
    "    function runWhenDOMLoaded() {\n",
    "        let isHungry = false;\n",
    "\n",
    "        // Define ingredients as a JSON object\n",
    "        const ingredients = {\n",
    "            \"bread\": true,\n",
    "            \"cheese\": false,\n",
    "            \"tomato\": false\n",
    "        };\n",
    "\n",
    "        const messageElement = document.getElementById(\"message\");\n",
    "\n",
    "        function displayMessage(message) {\n",
    "            console.log(message); // Log to console\n",
    "            messageElement.textContent = message; // Display on the webpage\n",
    "        }\n",
    "\n",
    "        // Check if essential ingredients are available\n",
    "        if (isHungry) {\n",
    "            if (ingredients.bread && ingredients.cheese) {\n",
    "                displayMessage(\"You can make a cheese sandwich at home.\");\n",
    "            } else if (ingredients.bread) {\n",
    "                displayMessage(\"You only have bread, maybe make toast.\");\n",
    "            } else {\n",
    "                displayMessage(\"You should order food since you don't have enough ingredients.\");\n",
    "            }\n",
    "        } else {\n",
    "            displayMessage(\"You aren't hungry. Maybe meal-prep for later if you had ingredients.\");\n",
    "        }\n",
    "    }\n",
    "\n",
    "    // Ensure the function runs only after the page loads\n",
    "    if (document.readyState === 'loading') {\n",
    "        document.addEventListener('DOMContentLoaded', runWhenDOMLoaded);\n",
    "    } else {\n",
    "        runWhenDOMLoaded();\n",
    "    }\n",
    "</script>\n"
   ]
  },
  {
   "cell_type": "code",
   "execution_count": 4,
   "metadata": {
    "vscode": {
     "languageId": "html"
    }
   },
   "outputs": [
    {
     "data": {
      "text/html": [
       "<!-- HTML output div -->\n",
       "<div id=\"message\"></div>\n",
       "\n",
       "<script>\n",
       "    function runWhenDOMLoaded() {\n",
       "        let isHungry = true;\n",
       "\n",
       "        // Define ingredients as a JSON object\n",
       "        const ingredients = {\n",
       "            \"bread\": true,\n",
       "            \"cheese\": true,\n",
       "            \"tomato\": false\n",
       "        };\n",
       "\n",
       "        const messageElement = document.getElementById(\"message\");\n",
       "\n",
       "        function displayMessage(message) {\n",
       "            console.log(message); // Log to console\n",
       "            messageElement.textContent = message; // Display on the webpage\n",
       "        }\n",
       "\n",
       "        // Check if essential ingredients are available\n",
       "        if (isHungry) {\n",
       "            if (ingredients.bread && ingredients.cheese) {\n",
       "                displayMessage(\"You can make a cheese sandwich at home.\");\n",
       "            } else if (ingredients.bread) {\n",
       "                displayMessage(\"You only have bread, maybe make toast.\");\n",
       "            } else {\n",
       "                displayMessage(\"You should order food since you don't have enough ingredients.\");\n",
       "            }\n",
       "        } else {\n",
       "            displayMessage(\"You aren't hungry. Maybe meal-prep for later if you had ingredients.\");\n",
       "        }\n",
       "    }\n",
       "\n",
       "    // Ensure the function runs only after the page loads\n",
       "    if (document.readyState === 'loading') {\n",
       "        document.addEventListener('DOMContentLoaded', runWhenDOMLoaded);\n",
       "    } else {\n",
       "        runWhenDOMLoaded();\n",
       "    }\n",
       "</script>\n"
      ],
      "text/plain": [
       "<IPython.core.display.HTML object>"
      ]
     },
     "metadata": {},
     "output_type": "display_data"
    }
   ],
   "source": [
    "%%html\n",
    "<!-- HTML output div -->\n",
    "<div id=\"message\"></div>\n",
    "\n",
    "<script>\n",
    "    function runWhenDOMLoaded() {\n",
    "        let isHungry = true;\n",
    "\n",
    "        // Define ingredients as a JSON object\n",
    "        const ingredients = {\n",
    "            \"bread\": true,\n",
    "            \"cheese\": true,\n",
    "            \"tomato\": false\n",
    "        };\n",
    "\n",
    "        const messageElement = document.getElementById(\"message\");\n",
    "\n",
    "        function displayMessage(message) {\n",
    "            console.log(message); // Log to console\n",
    "            messageElement.textContent = message; // Display on the webpage\n",
    "        }\n",
    "\n",
    "        // Check if essential ingredients are available\n",
    "        if (isHungry) {\n",
    "            if (ingredients.bread && ingredients.cheese) {\n",
    "                displayMessage(\"You can make a cheese sandwich at home.\");\n",
    "            } else if (ingredients.bread) {\n",
    "                displayMessage(\"You only have bread, maybe make toast.\");\n",
    "            } else {\n",
    "                displayMessage(\"You should order food since you don't have enough ingredients.\");\n",
    "            }\n",
    "        } else {\n",
    "            displayMessage(\"You aren't hungry. Maybe meal-prep for later if you had ingredients.\");\n",
    "        }\n",
    "    }\n",
    "\n",
    "    // Ensure the function runs only after the page loads\n",
    "    if (document.readyState === 'loading') {\n",
    "        document.addEventListener('DOMContentLoaded', runWhenDOMLoaded);\n",
    "    } else {\n",
    "        runWhenDOMLoaded();\n",
    "    }\n",
    "</script>\n"
   ]
  },
  {
   "cell_type": "markdown",
   "metadata": {},
   "source": [
    "## Who makes a cheese sandwich? Do you at least grill it? Anyways, HOMEWORK!!!!!"
   ]
  },
  {
   "cell_type": "code",
   "execution_count": 38,
   "metadata": {
    "vscode": {
     "languageId": "javascript"
    }
   },
   "outputs": [
    {
     "data": {
      "application/javascript": "\nlet number = Math.random() * 11\nlet grade = Math.round(number)\n\nconsole.log(`\"You are in ${grade}th grade\"`)\n\nif (grade === 0) {\n    console.log(\"You are in kindergarten!\");\n} else if (grade >= 1 && grade <= 5) {\n    console.log(\"You are in elementary school!\");\n} else if (grade >= 6 && grade <= 8) {\n    console.log(\"You are in middle school!\");\n} else if (grade >= 9 && grade <= 12) {\n    console.log(\"You are in high school!\");\n}\n",
      "text/plain": [
       "<IPython.core.display.Javascript object>"
      ]
     },
     "metadata": {},
     "output_type": "display_data"
    }
   ],
   "source": [
    "%%js\n",
    "\n",
    "let number = Math.random() * 11\n",
    "let grade = Math.round(number)\n",
    "\n",
    "console.log(`\"You are in ${grade}th grade\"`)\n",
    "\n",
    "if (grade === 0) {\n",
    "    console.log(\"You are in kindergarten!\");\n",
    "} else if (grade >= 1 && grade <= 5) {\n",
    "    console.log(\"You are in elementary school!\");\n",
    "} else if (grade >= 6 && grade <= 8) {\n",
    "    console.log(\"You are in middle school!\");\n",
    "} else if (grade >= 9 && grade <= 12) {\n",
    "    console.log(\"You are in high school!\");\n",
    "}\n"
   ]
  }
 ],
 "metadata": {
  "kernelspec": {
   "display_name": "venv",
   "language": "python",
   "name": "python3"
  },
  "language_info": {
   "codemirror_mode": {
    "name": "ipython",
    "version": 3
   },
   "file_extension": ".py",
   "mimetype": "text/x-python",
   "name": "python",
   "nbconvert_exporter": "python",
   "pygments_lexer": "ipython3",
   "version": "3.10.12"
  }
 },
 "nbformat": 4,
 "nbformat_minor": 2
}
