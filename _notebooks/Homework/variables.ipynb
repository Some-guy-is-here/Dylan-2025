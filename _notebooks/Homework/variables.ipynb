{
 "cells": [
  {
   "cell_type": "code",
   "execution_count": null,
   "metadata": {
    "vscode": {
     "languageId": "javascript"
    }
   },
   "outputs": [],
   "source": [
    "%%js\n",
    "\n",
    "let gameQuestion = \"My favorite game is\"\n",
    "let gameAnswer = \"Frostpunk\"\n",
    "console.log(gameQuestion + gameAnswer)"
   ]
  },
  {
   "cell_type": "code",
   "execution_count": 19,
   "metadata": {
    "vscode": {
     "languageId": "javascript"
    }
   },
   "outputs": [
    {
     "data": {
      "application/javascript": "\nlet nullVar = \"null\"\nlet undefinedVar;\nlet symbolVar = Symbol(\"Silly\");\n\nconsole.log(nullVar)\nconsole.log(undefinedVar)\nconsole.log(symbolVar)\n",
      "text/plain": [
       "<IPython.core.display.Javascript object>"
      ]
     },
     "metadata": {},
     "output_type": "display_data"
    }
   ],
   "source": [
    "%%js\n",
    "\n",
    "let nullVar = \"null\"\n",
    "let undefinedVar;\n",
    "let symbolVar = Symbol(\"Silly\");\n",
    "\n",
    "console.log(nullVar)\n",
    "console.log(undefinedVar)\n",
    "console.log(symbolVar)"
   ]
  },
  {
   "cell_type": "code",
   "execution_count": null,
   "metadata": {
    "vscode": {
     "languageId": "javascript"
    }
   },
   "outputs": [
    {
     "data": {
      "application/javascript": "\nlet gameQuestion = \"My favorite game is\"\nlet gameAnswer = \"Frostpunk\"\nconsole.log(gameQuestion + gameAnswer)\n\n\n\n\nlet studentName = \"Dylan Cheadle\";\nlet age = \"15\"\nlet isStudent = true\n\nlet favoriteSong = \"Come Hang Out\"\nlet songArtist = \"AJR\"\nfunction playFavoriteSong(favoriteSong) {\n    return \"Now playing \" + favoriteSong + \" by \" + songArtist;\n}\n\nconsole.log(studentName)\nconsole.log(age)\nconsole.log(isStudent)\nconsole.log(playFavoriteSong(favoriteSong))\n",
      "text/plain": [
       "<IPython.core.display.Javascript object>"
      ]
     },
     "metadata": {},
     "output_type": "display_data"
    }
   ],
   "source": [
    "%%js\n",
    "\n",
    "let studentName = \"Dylan Cheadle\";\n",
    "let age = \"15\"\n",
    "let isStudent = true\n",
    "\n",
    "let favoriteSong = \"Come Hang Out\"\n",
    "let songArtist = \"AJR\"\n",
    "function playFavoriteSong(favoriteSong) {\n",
    "    return \"Now playing \" + favoriteSong + \" by \" + songArtist;\n",
    "}\n",
    "\n",
    "console.log(studentName)\n",
    "console.log(age)\n",
    "console.log(isStudent)\n",
    "console.log(playFavoriteSong(favoriteSong))"
   ]
  }
 ],
 "metadata": {
  "kernelspec": {
   "display_name": "venv",
   "language": "python",
   "name": "python3"
  },
  "language_info": {
   "codemirror_mode": {
    "name": "ipython",
    "version": 3
   },
   "file_extension": ".py",
   "mimetype": "text/x-python",
   "name": "python",
   "nbconvert_exporter": "python",
   "pygments_lexer": "ipython3",
   "version": "3.10.12"
  }
 },
 "nbformat": 4,
 "nbformat_minor": 2
}
