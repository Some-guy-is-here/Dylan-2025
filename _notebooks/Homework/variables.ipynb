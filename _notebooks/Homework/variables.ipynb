{
 "cells": [
  {
   "cell_type": "code",
   "execution_count": 5,
   "metadata": {
    "vscode": {
     "languageId": "javascript"
    }
   },
   "outputs": [
    {
     "data": {
      "application/javascript": "\nlet studentName = \"Dylan Cheadle\";\nlet age = \"15\"\nlet isStudent = true\n\nlet favoriteSong = \"Come Hang Out\"\nlet songArtist = \"AJR\"\nfunction playFavoriteSong(favoriteSong) {\n    return \"Now playing \" + favoriteSong + \" by \" + songArtist;\n}\n\nconsole.log(studentName)\nconsole.log(age)\nconsole.log(isStudent)\nconsole.log(playFavoriteSong(favoriteSong))\n",
      "text/plain": [
       "<IPython.core.display.Javascript object>"
      ]
     },
     "metadata": {},
     "output_type": "display_data"
    }
   ],
   "source": [
    "%%js\n",
    "\n",
    "let studentName = \"Dylan Cheadle\";\n",
    "let age = \"15\"\n",
    "let isStudent = true\n",
    "\n",
    "let favoriteSong = \"Come Hang Out\"\n",
    "let songArtist = \"AJR\"\n",
    "function playFavoriteSong(favoriteSong) {\n",
    "    return \"Now playing \" + favoriteSong + \" by \" + songArtist;\n",
    "}\n",
    "\n",
    "console.log(studentName)\n",
    "console.log(age)\n",
    "console.log(isStudent)\n",
    "console.log(playFavoriteSong(favoriteSong))"
   ]
  }
 ],
 "metadata": {
  "kernelspec": {
   "display_name": "venv",
   "language": "python",
   "name": "python3"
  },
  "language_info": {
   "codemirror_mode": {
    "name": "ipython",
    "version": 3
   },
   "file_extension": ".py",
   "mimetype": "text/x-python",
   "name": "python",
   "nbconvert_exporter": "python",
   "pygments_lexer": "ipython3",
   "version": "3.10.12"
  }
 },
 "nbformat": 4,
 "nbformat_minor": 2
}
