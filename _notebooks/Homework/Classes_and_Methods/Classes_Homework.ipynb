{
 "cells": [
  {
   "cell_type": "code",
   "execution_count": null,
   "metadata": {
    "vscode": {
     "languageId": "plaintext"
    }
   },
   "outputs": [],
   "source": [
    "%%js \n",
    "\n",
    "// Have Fun!\n",
    "\n",
    "class Person {\n",
    "    // Define Key-Value Pairs\n",
    "\n",
    "\n",
    "    // Methods of choosing can go here\n",
    "\n",
    "\n",
    "    // Methods of choosing go here\n",
    "\n",
    "\n",
    "}\n",
    "\n",
    "// Outputs can go here \n",
    "// Set 1\n",
    "// Set 2\n",
    "// Get 1\n",
    "// Get 2\n",
    "\n",
    "// Test invalid input"
   ]
  }
 ],
 "metadata": {
  "language_info": {
   "name": "python"
  }
 },
 "nbformat": 4,
 "nbformat_minor": 2
}
