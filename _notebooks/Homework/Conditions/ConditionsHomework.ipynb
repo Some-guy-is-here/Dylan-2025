{
 "cells": [
  {
   "cell_type": "markdown",
   "metadata": {},
   "source": [
    "## Popcorn Hack 1"
   ]
  },
  {
   "cell_type": "code",
   "execution_count": 4,
   "metadata": {
    "vscode": {
     "languageId": "html"
    }
   },
   "outputs": [
    {
     "data": {
      "text/html": [
       "\n",
       "<output id=\"output\"></output>\n",
       "\n",
       "<script>\n",
       "function initializeData(data = null) {\n",
       "    let scaleFactor = 9/16\n",
       "    let animationRate = 1\n",
       "    let position = [0, 0]\n",
       "    let speed = 3\n",
       "\n",
       "//Check if data is provided\n",
       "    if (data) {\n",
       "        scaleFactor = data.SCALE_FACTOR || scaleFactor;\n",
       "        animationRate = data.ANIMATION_RATE || animationRate;\n",
       "        position = data.INIT_POSITION || position;\n",
       "        speed = data.speed || speed;\n",
       "    }\n",
       "\n",
       "\n",
       "    document.getElementById(\"output\").innerHTML = `\n",
       "        <p>Scale Factor: ${scaleFactor}</p>\n",
       "        <p>Animation Rate: ${animationRate}</p>\n",
       "        <p>Initial Position: ${position}</p>\n",
       "        <p>Speed: ${speed}</p> <!-- Display speed -->\n",
       "    `;\n",
       "}\n",
       "\n",
       "var data = {\n",
       "    SCALE_FACTOR: 1/1,\n",
       "    ANIMATION_RATE: 25,\n",
       "    INIT_POSITION: [100, 100]\n",
       "    speed: 5 // Add speed to data object\n",
       "}\n",
       "\n",
       "intializeData();\n",
       "intializeData(data)\n",
       "\n",
       "</script>\n"
      ],
      "text/plain": [
       "<IPython.core.display.HTML object>"
      ]
     },
     "metadata": {},
     "output_type": "display_data"
    }
   ],
   "source": [
    "%%html\n",
    "\n",
    "<output id=\"output\"></output>\n",
    "\n",
    "<script>\n",
    "function initializeData(data = null) {\n",
    "    let scaleFactor = 9/16\n",
    "    let animationRate = 1\n",
    "    let position = [0, 0]\n",
    "    let speed = 3\n",
    "\n",
    "//Check if data is provided\n",
    "    if (data) {\n",
    "        scaleFactor = data.SCALE_FACTOR || scaleFactor;\n",
    "        animationRate = data.ANIMATION_RATE || animationRate;\n",
    "        position = data.INIT_POSITION || position;\n",
    "        speed = data.speed || speed;\n",
    "    }\n",
    "\n",
    "\n",
    "    document.getElementById(\"output\").innerHTML = `\n",
    "        <p>Scale Factor: ${scaleFactor}</p>\n",
    "        <p>Animation Rate: ${animationRate}</p>\n",
    "        <p>Initial Position: ${position}</p>\n",
    "        <p>Speed: ${speed}</p> <!-- Display speed -->\n",
    "    `;\n",
    "}\n",
    "\n",
    "var data = {\n",
    "    SCALE_FACTOR: 1/1,\n",
    "    ANIMATION_RATE: 25,\n",
    "    INIT_POSITION: [100, 100]\n",
    "    speed: 5 // Add speed to data object\n",
    "}\n",
    "\n",
    "intializeData();\n",
    "intializeData(data)\n",
    "\n",
    "</script>"
   ]
  },
  {
   "cell_type": "markdown",
   "metadata": {},
   "source": [
    "## Popcorn hack 2"
   ]
  },
  {
   "cell_type": "code",
   "execution_count": 13,
   "metadata": {
    "vscode": {
     "languageId": "javascript"
    }
   },
   "outputs": [
    {
     "data": {
      "application/javascript": "\nlet canAttack = false;\n\nif(canAttack) {\n    console.log(\"Cannot attack\")\n}\n\nif(Math.random() < 0.5) {\n    canAttack = true\n    console.log(\"Can attack!\")\n} else {\n    console.log(\"Cannot attack :(\")\n}\n\nif(canAttack) {\n    console.log(\"Give em' hell kid.\")\n} else {\n    console.log(\"You're stupid.\")\n}\n",
      "text/plain": [
       "<IPython.core.display.Javascript object>"
      ]
     },
     "metadata": {},
     "output_type": "display_data"
    }
   ],
   "source": [
    "%%js\n",
    "\n",
    "let canAttack = false;\n",
    "\n",
    "if(canAttack) {\n",
    "    console.log(\"Cannot attack\")\n",
    "}\n",
    "\n",
    "if(Math.random() < 0.5) {\n",
    "    canAttack = true\n",
    "    console.log(\"Can attack!\")\n",
    "} else {\n",
    "    console.log(\"Cannot attack :(\")\n",
    "}\n",
    "\n",
    "if(canAttack) {\n",
    "    console.log(\"Give em' hell kid.\")\n",
    "} else {\n",
    "    console.log(\"You're stupid.\")\n",
    "}"
   ]
  },
  {
   "cell_type": "markdown",
   "metadata": {},
   "source": [
    "## Homework!!!"
   ]
  },
  {
   "cell_type": "code",
   "execution_count": 25,
   "metadata": {
    "vscode": {
     "languageId": "javascript"
    }
   },
   "outputs": [
    {
     "data": {
      "application/javascript": "\nlet canAttack = false;\nlet enemyHealth = 100\nconst damagePerHit = 10\nif(canAttack) {\n    console.log(\"Cannot attack\")\n}\n\nif(Math.random() < 0.5) {\n    canAttack = true\n    console.log(\"Can attack!\")\n} else {\n    console.log(\"Cannot attack :(\")\n}\n\nif(canAttack) {\n    console.log(\"Give em' hell kid.\")\n} else {\n    console.log(\"You're stupid.\")\n}\nif (canAttack) {\n    enemyHealth -= damagePerHit\n    console.log(`Enemy health: ${enemyHealth}`)\n    console.log(\"HAHAHAHA! YES! BLOOD FOR THE BLOOD GOD! SKULLS FOR THE SKULL THRONE!\")\n}\nif(enemyHealth <= 0) {\n    console.log(\"HAHAHAHA! LET THE BLOOD FLOW!\")\n}\n",
      "text/plain": [
       "<IPython.core.display.Javascript object>"
      ]
     },
     "metadata": {},
     "output_type": "display_data"
    }
   ],
   "source": [
    "%%js\n",
    "\n",
    "let canAttack = false;\n",
    "let enemyHealth = 100\n",
    "const damagePerHit = 10\n",
    "if(canAttack) {\n",
    "    console.log(\"Cannot attack\")\n",
    "}\n",
    "\n",
    "if(Math.random() < 0.5) {\n",
    "    canAttack = true\n",
    "    console.log(\"Can attack!\")\n",
    "} else {\n",
    "    console.log(\"Cannot attack :(\")\n",
    "}\n",
    "\n",
    "if(canAttack) {\n",
    "    console.log(\"Give em' hell kid.\")\n",
    "} else {\n",
    "    console.log(\"You're stupid.\")\n",
    "}\n",
    "if (canAttack) {\n",
    "    enemyHealth -= damagePerHit\n",
    "    console.log(`Enemy health: ${enemyHealth}`)\n",
    "    console.log(\"HAHAHAHA! YES! BLOOD FOR THE BLOOD GOD! SKULLS FOR THE SKULL THRONE!\")\n",
    "}\n",
    "if(enemyHealth <= 0) {\n",
    "    console.log(\"HAHAHAHA! LET THE BLOOD FLOW!\")\n",
    "}"
   ]
  }
 ],
 "metadata": {
  "kernelspec": {
   "display_name": "venv",
   "language": "python",
   "name": "python3"
  },
  "language_info": {
   "codemirror_mode": {
    "name": "ipython",
    "version": 3
   },
   "file_extension": ".py",
   "mimetype": "text/x-python",
   "name": "python",
   "nbconvert_exporter": "python",
   "pygments_lexer": "ipython3",
   "version": "3.10.12"
  }
 },
 "nbformat": 4,
 "nbformat_minor": 2
}
